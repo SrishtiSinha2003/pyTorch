{
  "nbformat": 4,
  "nbformat_minor": 0,
  "metadata": {
    "colab": {
      "provenance": []
    },
    "kernelspec": {
      "name": "python3",
      "display_name": "Python 3"
    },
    "language_info": {
      "name": "python"
    }
  },
  "cells": [
    {
      "cell_type": "code",
      "execution_count": 1,
      "metadata": {
        "colab": {
          "base_uri": "https://localhost:8080/"
        },
        "id": "wV8SIz1eh0r9",
        "outputId": "8f831896-1b07-4171-96d2-d35da2a3af71"
      },
      "outputs": [
        {
          "output_type": "stream",
          "name": "stdout",
          "text": [
            "2.6.0+cu124\n"
          ]
        }
      ],
      "source": [
        "import torch\n",
        "import pandas as pd\n",
        "import matplotlib.pyplot as plt\n",
        "import numpy as np\n",
        "print(torch.__version__)"
      ]
    },
    {
      "cell_type": "code",
      "source": [
        "#scaler\n",
        "scaler=torch.tensor(7)\n",
        "scaler"
      ],
      "metadata": {
        "colab": {
          "base_uri": "https://localhost:8080/"
        },
        "id": "zj5XOqEuiAs8",
        "outputId": "4984579b-5b07-4373-8b14-b8bbcb898b4d"
      },
      "execution_count": 2,
      "outputs": [
        {
          "output_type": "execute_result",
          "data": {
            "text/plain": [
              "tensor(7)"
            ]
          },
          "metadata": {},
          "execution_count": 2
        }
      ]
    },
    {
      "cell_type": "code",
      "source": [
        "scaler.ndim"
      ],
      "metadata": {
        "colab": {
          "base_uri": "https://localhost:8080/"
        },
        "id": "kgJHpKVUiDNI",
        "outputId": "c68b8462-5b3f-4d4b-d325-65925d378af0"
      },
      "execution_count": 3,
      "outputs": [
        {
          "output_type": "execute_result",
          "data": {
            "text/plain": [
              "0"
            ]
          },
          "metadata": {},
          "execution_count": 3
        }
      ]
    },
    {
      "cell_type": "code",
      "source": [
        "scaler.item()"
      ],
      "metadata": {
        "colab": {
          "base_uri": "https://localhost:8080/"
        },
        "id": "0NoFC4q9iGk4",
        "outputId": "14562e6e-7620-4fd8-8442-f4afe683c3f5"
      },
      "execution_count": 4,
      "outputs": [
        {
          "output_type": "execute_result",
          "data": {
            "text/plain": [
              "7"
            ]
          },
          "metadata": {},
          "execution_count": 4
        }
      ]
    },
    {
      "cell_type": "code",
      "source": [
        "#vector\n",
        "\n",
        "vector=torch.tensor([7,7])\n",
        "vector"
      ],
      "metadata": {
        "colab": {
          "base_uri": "https://localhost:8080/"
        },
        "id": "ziyV-bOmiIWK",
        "outputId": "dadae341-8abd-4754-a6d5-be40a762a9f7"
      },
      "execution_count": 5,
      "outputs": [
        {
          "output_type": "execute_result",
          "data": {
            "text/plain": [
              "tensor([7, 7])"
            ]
          },
          "metadata": {},
          "execution_count": 5
        }
      ]
    },
    {
      "cell_type": "code",
      "source": [
        "vector.ndim"
      ],
      "metadata": {
        "colab": {
          "base_uri": "https://localhost:8080/"
        },
        "id": "CcrcrAdIiKPb",
        "outputId": "d2b6f713-5c03-4d21-bd82-e150bb862dd0"
      },
      "execution_count": 6,
      "outputs": [
        {
          "output_type": "execute_result",
          "data": {
            "text/plain": [
              "1"
            ]
          },
          "metadata": {},
          "execution_count": 6
        }
      ]
    },
    {
      "cell_type": "code",
      "source": [
        "vector.shape"
      ],
      "metadata": {
        "colab": {
          "base_uri": "https://localhost:8080/"
        },
        "id": "txhNQ9eYiM7b",
        "outputId": "e57e5824-be8a-4cb3-9128-898f43253f00"
      },
      "execution_count": 7,
      "outputs": [
        {
          "output_type": "execute_result",
          "data": {
            "text/plain": [
              "torch.Size([2])"
            ]
          },
          "metadata": {},
          "execution_count": 7
        }
      ]
    },
    {
      "cell_type": "code",
      "source": [
        "#MATRIX\n",
        "MATRIX=torch.tensor([[7,8],\n",
        "                     [9,10]])\n",
        "MATRIX"
      ],
      "metadata": {
        "colab": {
          "base_uri": "https://localhost:8080/"
        },
        "id": "qQlZRG7ZiOl-",
        "outputId": "0a12f764-7190-4a1f-dbe4-5a5c35b76e6b"
      },
      "execution_count": 8,
      "outputs": [
        {
          "output_type": "execute_result",
          "data": {
            "text/plain": [
              "tensor([[ 7,  8],\n",
              "        [ 9, 10]])"
            ]
          },
          "metadata": {},
          "execution_count": 8
        }
      ]
    },
    {
      "cell_type": "code",
      "source": [
        "MATRIX.shape"
      ],
      "metadata": {
        "colab": {
          "base_uri": "https://localhost:8080/"
        },
        "id": "SrVmFknZiQkT",
        "outputId": "cd43b7e2-faf0-4428-9fc8-8ee85977ae42"
      },
      "execution_count": 9,
      "outputs": [
        {
          "output_type": "execute_result",
          "data": {
            "text/plain": [
              "torch.Size([2, 2])"
            ]
          },
          "metadata": {},
          "execution_count": 9
        }
      ]
    },
    {
      "cell_type": "code",
      "source": [
        "MATRIX.ndim"
      ],
      "metadata": {
        "colab": {
          "base_uri": "https://localhost:8080/"
        },
        "id": "v70GqN4diSbR",
        "outputId": "fb1b8691-49b2-46b1-eb6d-b110801421b5"
      },
      "execution_count": 10,
      "outputs": [
        {
          "output_type": "execute_result",
          "data": {
            "text/plain": [
              "2"
            ]
          },
          "metadata": {},
          "execution_count": 10
        }
      ]
    },
    {
      "cell_type": "code",
      "source": [
        "#TENSOR\n",
        "TENSOR=torch.tensor([[[1,2,3],\n",
        "                      [3,4,5],\n",
        "                      [3,2,4]]])\n",
        "TENSOR"
      ],
      "metadata": {
        "colab": {
          "base_uri": "https://localhost:8080/"
        },
        "id": "rsVIpAQniT60",
        "outputId": "0c6cda26-7852-4260-81b3-564f7e69e206"
      },
      "execution_count": 11,
      "outputs": [
        {
          "output_type": "execute_result",
          "data": {
            "text/plain": [
              "tensor([[[1, 2, 3],\n",
              "         [3, 4, 5],\n",
              "         [3, 2, 4]]])"
            ]
          },
          "metadata": {},
          "execution_count": 11
        }
      ]
    },
    {
      "cell_type": "code",
      "source": [
        "TENSOR.shape"
      ],
      "metadata": {
        "colab": {
          "base_uri": "https://localhost:8080/"
        },
        "id": "q8ghzbmliVhY",
        "outputId": "1f7abf21-a144-47c9-89c1-1bf8ec62e309"
      },
      "execution_count": 12,
      "outputs": [
        {
          "output_type": "execute_result",
          "data": {
            "text/plain": [
              "torch.Size([1, 3, 3])"
            ]
          },
          "metadata": {},
          "execution_count": 12
        }
      ]
    },
    {
      "cell_type": "code",
      "source": [
        "a=torch.tensor([[[[[[[[[[[[[1,2,3,4],\n",
        " [8,9,9,8]]]]]]]]]]]]])\n",
        "a"
      ],
      "metadata": {
        "colab": {
          "base_uri": "https://localhost:8080/"
        },
        "id": "dxLvHhRkiXVd",
        "outputId": "6c760ce3-55ed-4603-f8e0-c10e99ed3a0f"
      },
      "execution_count": 13,
      "outputs": [
        {
          "output_type": "execute_result",
          "data": {
            "text/plain": [
              "tensor([[[[[[[[[[[[[1, 2, 3, 4],\n",
              "                   [8, 9, 9, 8]]]]]]]]]]]]])"
            ]
          },
          "metadata": {},
          "execution_count": 13
        }
      ]
    },
    {
      "cell_type": "code",
      "source": [
        "a.shape"
      ],
      "metadata": {
        "colab": {
          "base_uri": "https://localhost:8080/"
        },
        "id": "BCdrgScKiYwj",
        "outputId": "26426415-3eef-4934-a2ec-77267912d902"
      },
      "execution_count": 14,
      "outputs": [
        {
          "output_type": "execute_result",
          "data": {
            "text/plain": [
              "torch.Size([1, 1, 1, 1, 1, 1, 1, 1, 1, 1, 1, 2, 4])"
            ]
          },
          "metadata": {},
          "execution_count": 14
        }
      ]
    },
    {
      "cell_type": "code",
      "source": [
        "a.ndim"
      ],
      "metadata": {
        "colab": {
          "base_uri": "https://localhost:8080/"
        },
        "id": "wIHQsq4miaXq",
        "outputId": "06df1d91-f6ac-4ff8-fd69-2a57894c6379"
      },
      "execution_count": 15,
      "outputs": [
        {
          "output_type": "execute_result",
          "data": {
            "text/plain": [
              "13"
            ]
          },
          "metadata": {},
          "execution_count": 15
        }
      ]
    },
    {
      "cell_type": "markdown",
      "source": [
        "Create a random tensor"
      ],
      "metadata": {
        "id": "u12zkzlgiqFO"
      }
    },
    {
      "cell_type": "code",
      "source": [
        "random_tensor=torch.rand(3,4)\n",
        "random_tensor"
      ],
      "metadata": {
        "colab": {
          "base_uri": "https://localhost:8080/"
        },
        "id": "OpX93Qwzivwc",
        "outputId": "949db9a7-0cd8-4d4b-cba5-624700b14565"
      },
      "execution_count": 16,
      "outputs": [
        {
          "output_type": "execute_result",
          "data": {
            "text/plain": [
              "tensor([[0.8033, 0.8822, 0.8095, 0.1417],\n",
              "        [0.9166, 0.6805, 0.4199, 0.3622],\n",
              "        [0.1193, 0.0319, 0.1759, 0.9169]])"
            ]
          },
          "metadata": {},
          "execution_count": 16
        }
      ]
    },
    {
      "cell_type": "code",
      "source": [
        "# create a randome tensor with similar shape to an image tensor\n",
        "randome_image_size_tensor=torch.rand(size=(3,224,224))\n",
        "print(randome_image_size_tensor.shape,\"dimension = \",randome_image_size_tensor.ndim)"
      ],
      "metadata": {
        "colab": {
          "base_uri": "https://localhost:8080/"
        },
        "id": "2O4xWoRgiyG8",
        "outputId": "87a2ae8f-835f-4d23-d2be-f22bcaca766e"
      },
      "execution_count": 17,
      "outputs": [
        {
          "output_type": "stream",
          "name": "stdout",
          "text": [
            "torch.Size([3, 224, 224]) dimension =  3\n"
          ]
        }
      ]
    },
    {
      "cell_type": "code",
      "source": [
        "random_tensor1=torch.rand(3,4,3)\n",
        "print(random_tensor1)\n",
        "print(random_tensor1.ndim)"
      ],
      "metadata": {
        "colab": {
          "base_uri": "https://localhost:8080/"
        },
        "id": "ZiUWpzK2i6Nr",
        "outputId": "bb323bda-a658-42e5-f4b6-1eaa873bee81"
      },
      "execution_count": 18,
      "outputs": [
        {
          "output_type": "stream",
          "name": "stdout",
          "text": [
            "tensor([[[0.5013, 0.9230, 0.5969],\n",
            "         [0.0420, 0.7484, 0.1193],\n",
            "         [0.1251, 0.6922, 0.3553],\n",
            "         [0.5639, 0.1827, 0.6020]],\n",
            "\n",
            "        [[0.4453, 0.8019, 0.1062],\n",
            "         [0.0944, 0.8563, 0.1783],\n",
            "         [0.0284, 0.1692, 0.7215],\n",
            "         [0.1122, 0.6626, 0.8879]],\n",
            "\n",
            "        [[0.4732, 0.9456, 0.8231],\n",
            "         [0.0789, 0.4552, 0.9196],\n",
            "         [0.9771, 0.4184, 0.6395],\n",
            "         [0.1067, 0.1637, 0.6156]]])\n",
            "3\n"
          ]
        }
      ]
    },
    {
      "cell_type": "markdown",
      "source": [
        "Zeros and Ones Tensor"
      ],
      "metadata": {
        "id": "wkfHwLAci9mC"
      }
    },
    {
      "cell_type": "code",
      "source": [
        "zeros=torch.zeros(size=(4,3))\n",
        "zeros"
      ],
      "metadata": {
        "colab": {
          "base_uri": "https://localhost:8080/"
        },
        "id": "-ozAJQfBi7t1",
        "outputId": "604ca367-7deb-471e-aaa8-f8fb8c7cda6f"
      },
      "execution_count": 19,
      "outputs": [
        {
          "output_type": "execute_result",
          "data": {
            "text/plain": [
              "tensor([[0., 0., 0.],\n",
              "        [0., 0., 0.],\n",
              "        [0., 0., 0.],\n",
              "        [0., 0., 0.]])"
            ]
          },
          "metadata": {},
          "execution_count": 19
        }
      ]
    },
    {
      "cell_type": "code",
      "source": [
        "zeros*random_tensor1"
      ],
      "metadata": {
        "colab": {
          "base_uri": "https://localhost:8080/"
        },
        "id": "2Zyhp6g1jEQx",
        "outputId": "536e02bf-a80a-40c2-b14c-f9d783bee358"
      },
      "execution_count": 20,
      "outputs": [
        {
          "output_type": "execute_result",
          "data": {
            "text/plain": [
              "tensor([[[0., 0., 0.],\n",
              "         [0., 0., 0.],\n",
              "         [0., 0., 0.],\n",
              "         [0., 0., 0.]],\n",
              "\n",
              "        [[0., 0., 0.],\n",
              "         [0., 0., 0.],\n",
              "         [0., 0., 0.],\n",
              "         [0., 0., 0.]],\n",
              "\n",
              "        [[0., 0., 0.],\n",
              "         [0., 0., 0.],\n",
              "         [0., 0., 0.],\n",
              "         [0., 0., 0.]]])"
            ]
          },
          "metadata": {},
          "execution_count": 20
        }
      ]
    },
    {
      "cell_type": "code",
      "source": [
        "#creating a tensor of all ones\n",
        "ones=torch.ones(size=(3,3,2,3,4))\n",
        "ones"
      ],
      "metadata": {
        "colab": {
          "base_uri": "https://localhost:8080/"
        },
        "id": "ymAuCueVjG2e",
        "outputId": "bafe8836-19de-4294-cb3d-b3cbab81f4b3"
      },
      "execution_count": 21,
      "outputs": [
        {
          "output_type": "execute_result",
          "data": {
            "text/plain": [
              "tensor([[[[[1., 1., 1., 1.],\n",
              "           [1., 1., 1., 1.],\n",
              "           [1., 1., 1., 1.]],\n",
              "\n",
              "          [[1., 1., 1., 1.],\n",
              "           [1., 1., 1., 1.],\n",
              "           [1., 1., 1., 1.]]],\n",
              "\n",
              "\n",
              "         [[[1., 1., 1., 1.],\n",
              "           [1., 1., 1., 1.],\n",
              "           [1., 1., 1., 1.]],\n",
              "\n",
              "          [[1., 1., 1., 1.],\n",
              "           [1., 1., 1., 1.],\n",
              "           [1., 1., 1., 1.]]],\n",
              "\n",
              "\n",
              "         [[[1., 1., 1., 1.],\n",
              "           [1., 1., 1., 1.],\n",
              "           [1., 1., 1., 1.]],\n",
              "\n",
              "          [[1., 1., 1., 1.],\n",
              "           [1., 1., 1., 1.],\n",
              "           [1., 1., 1., 1.]]]],\n",
              "\n",
              "\n",
              "\n",
              "        [[[[1., 1., 1., 1.],\n",
              "           [1., 1., 1., 1.],\n",
              "           [1., 1., 1., 1.]],\n",
              "\n",
              "          [[1., 1., 1., 1.],\n",
              "           [1., 1., 1., 1.],\n",
              "           [1., 1., 1., 1.]]],\n",
              "\n",
              "\n",
              "         [[[1., 1., 1., 1.],\n",
              "           [1., 1., 1., 1.],\n",
              "           [1., 1., 1., 1.]],\n",
              "\n",
              "          [[1., 1., 1., 1.],\n",
              "           [1., 1., 1., 1.],\n",
              "           [1., 1., 1., 1.]]],\n",
              "\n",
              "\n",
              "         [[[1., 1., 1., 1.],\n",
              "           [1., 1., 1., 1.],\n",
              "           [1., 1., 1., 1.]],\n",
              "\n",
              "          [[1., 1., 1., 1.],\n",
              "           [1., 1., 1., 1.],\n",
              "           [1., 1., 1., 1.]]]],\n",
              "\n",
              "\n",
              "\n",
              "        [[[[1., 1., 1., 1.],\n",
              "           [1., 1., 1., 1.],\n",
              "           [1., 1., 1., 1.]],\n",
              "\n",
              "          [[1., 1., 1., 1.],\n",
              "           [1., 1., 1., 1.],\n",
              "           [1., 1., 1., 1.]]],\n",
              "\n",
              "\n",
              "         [[[1., 1., 1., 1.],\n",
              "           [1., 1., 1., 1.],\n",
              "           [1., 1., 1., 1.]],\n",
              "\n",
              "          [[1., 1., 1., 1.],\n",
              "           [1., 1., 1., 1.],\n",
              "           [1., 1., 1., 1.]]],\n",
              "\n",
              "\n",
              "         [[[1., 1., 1., 1.],\n",
              "           [1., 1., 1., 1.],\n",
              "           [1., 1., 1., 1.]],\n",
              "\n",
              "          [[1., 1., 1., 1.],\n",
              "           [1., 1., 1., 1.],\n",
              "           [1., 1., 1., 1.]]]]])"
            ]
          },
          "metadata": {},
          "execution_count": 21
        }
      ]
    },
    {
      "cell_type": "code",
      "source": [
        "ones.dtype"
      ],
      "metadata": {
        "colab": {
          "base_uri": "https://localhost:8080/"
        },
        "id": "3aXICr6ajIoM",
        "outputId": "154ad672-342e-4c98-98ef-c29e39ed7998"
      },
      "execution_count": 22,
      "outputs": [
        {
          "output_type": "execute_result",
          "data": {
            "text/plain": [
              "torch.float32"
            ]
          },
          "metadata": {},
          "execution_count": 22
        }
      ]
    },
    {
      "cell_type": "markdown",
      "source": [
        "Creating a range of tensors and tensor_like"
      ],
      "metadata": {
        "id": "Esg53kTdjQKj"
      }
    },
    {
      "cell_type": "code",
      "source": [
        "#use torch .rande()\n",
        "one_2_ten=torch.arange(2,11,3)\n",
        "one_2_ten"
      ],
      "metadata": {
        "colab": {
          "base_uri": "https://localhost:8080/"
        },
        "id": "1_aUOaTMjMB6",
        "outputId": "676580bf-184e-4562-c276-357add53e714"
      },
      "execution_count": 23,
      "outputs": [
        {
          "output_type": "execute_result",
          "data": {
            "text/plain": [
              "tensor([2, 5, 8])"
            ]
          },
          "metadata": {},
          "execution_count": 23
        }
      ]
    },
    {
      "cell_type": "code",
      "source": [
        "#creating tensors like\n",
        "\n",
        "ten_zeros=torch.zeros_like(input=one_2_ten)\n",
        "ten_zeros"
      ],
      "metadata": {
        "colab": {
          "base_uri": "https://localhost:8080/"
        },
        "id": "Vw5LTHZvjOM-",
        "outputId": "a7eef956-df57-466b-a11a-f486c5f4217f"
      },
      "execution_count": 24,
      "outputs": [
        {
          "output_type": "execute_result",
          "data": {
            "text/plain": [
              "tensor([0, 0, 0])"
            ]
          },
          "metadata": {},
          "execution_count": 24
        }
      ]
    },
    {
      "cell_type": "code",
      "source": [
        "ten_one=torch.ones_like(input=ten_zeros)\n",
        "ten_one"
      ],
      "metadata": {
        "colab": {
          "base_uri": "https://localhost:8080/"
        },
        "id": "e3oHGXzCjYr1",
        "outputId": "cb5cf385-0fc7-428c-e271-6a78acc92ca7"
      },
      "execution_count": 25,
      "outputs": [
        {
          "output_type": "execute_result",
          "data": {
            "text/plain": [
              "tensor([1, 1, 1])"
            ]
          },
          "metadata": {},
          "execution_count": 25
        }
      ]
    },
    {
      "cell_type": "markdown",
      "source": [
        "Tensor Data type"
      ],
      "metadata": {
        "id": "UbBJypMHjkn-"
      }
    },
    {
      "cell_type": "code",
      "execution_count": 26,
      "metadata": {
        "colab": {
          "base_uri": "https://localhost:8080/"
        },
        "id": "r40mAzUi-zQS",
        "outputId": "b4ec8120-10f0-4f05-d97b-e814a5faa22f"
      },
      "outputs": [
        {
          "output_type": "execute_result",
          "data": {
            "text/plain": [
              "tensor([  1.,   2.,   3.,   3., 423.], dtype=torch.float16)"
            ]
          },
          "metadata": {},
          "execution_count": 26
        }
      ],
      "source": [
        "#float 32 tensor\n",
        "float_32_tensor=torch.tensor([1,2,3,3,423],\n",
        "                             dtype=torch.float16,\n",
        "                             device=\"cpu\",\n",
        "                             requires_grad=False)\n",
        "float_32_tensor"
      ]
    },
    {
      "cell_type": "code",
      "execution_count": 27,
      "metadata": {
        "colab": {
          "base_uri": "https://localhost:8080/"
        },
        "id": "ob_x6cOM-z8j",
        "outputId": "e27acd64-0929-4290-a174-2403e2727f39"
      },
      "outputs": [
        {
          "output_type": "execute_result",
          "data": {
            "text/plain": [
              "tensor([ 1,  2,  3,  4,  5, 67,  8], dtype=torch.uint8)"
            ]
          },
          "metadata": {},
          "execution_count": 27
        }
      ],
      "source": [
        "unsinged_integer=torch.tensor([1,2,3,4,5,67,8],\n",
        "                              dtype=torch.uint8,\n",
        "                              device='cpu',\n",
        "                              requires_grad=False)\n",
        "unsinged_integer"
      ]
    },
    {
      "cell_type": "code",
      "source": [
        "unsinged_integer.dtype"
      ],
      "metadata": {
        "colab": {
          "base_uri": "https://localhost:8080/"
        },
        "id": "s2C5CFJojxBw",
        "outputId": "02c57f2e-b26a-48e9-fcdd-0fec242e5a2b"
      },
      "execution_count": 28,
      "outputs": [
        {
          "output_type": "execute_result",
          "data": {
            "text/plain": [
              "torch.uint8"
            ]
          },
          "metadata": {},
          "execution_count": 28
        }
      ]
    },
    {
      "cell_type": "code",
      "source": [
        "one_ten=torch.ones_like(input=torch.arange(0,10))\n",
        "one_ten"
      ],
      "metadata": {
        "colab": {
          "base_uri": "https://localhost:8080/"
        },
        "id": "VVAzw3Z-j0eM",
        "outputId": "b754554e-1fc5-46ea-e5ad-bd57a96e1615"
      },
      "execution_count": 29,
      "outputs": [
        {
          "output_type": "execute_result",
          "data": {
            "text/plain": [
              "tensor([1, 1, 1, 1, 1, 1, 1, 1, 1, 1])"
            ]
          },
          "metadata": {},
          "execution_count": 29
        }
      ]
    },
    {
      "cell_type": "code",
      "source": [
        "tensor_16_float=torch.tensor([1,2,32,430],\n",
        "                            dtype=torch.float16,\n",
        "                            device=None,\n",
        "                            requires_grad=False\n",
        "                            )"
      ],
      "metadata": {
        "id": "On88vl81j18_"
      },
      "execution_count": 30,
      "outputs": []
    },
    {
      "cell_type": "code",
      "source": [
        "tensor_32_float=torch.tensor([1,2,32,430],\n",
        "                            dtype=torch.float32,\n",
        "                            device=None,\n",
        "                            requires_grad=False\n",
        "                            )"
      ],
      "metadata": {
        "id": "bjURyMR0j3rO"
      },
      "execution_count": 31,
      "outputs": []
    },
    {
      "cell_type": "code",
      "source": [
        "tensor_16_float*tensor_32_float"
      ],
      "metadata": {
        "colab": {
          "base_uri": "https://localhost:8080/"
        },
        "id": "QBIeAdEWj5qU",
        "outputId": "194ef71e-da24-45f5-b31f-ff75fab1542d"
      },
      "execution_count": 32,
      "outputs": [
        {
          "output_type": "execute_result",
          "data": {
            "text/plain": [
              "tensor([1.0000e+00, 4.0000e+00, 1.0240e+03, 1.8490e+05])"
            ]
          },
          "metadata": {},
          "execution_count": 32
        }
      ]
    },
    {
      "cell_type": "code",
      "source": [
        "integer_tensor=torch.tensor([1,23,2,212],\n",
        "                            dtype=torch.int32)"
      ],
      "metadata": {
        "id": "cEBAMcfnj71U"
      },
      "execution_count": 33,
      "outputs": []
    },
    {
      "cell_type": "code",
      "source": [
        "integer_tensor*tensor_16_float"
      ],
      "metadata": {
        "colab": {
          "base_uri": "https://localhost:8080/"
        },
        "id": "hf_9bQzMkCvv",
        "outputId": "e1fb34f1-e197-4791-eddb-b57b7adeaa2a"
      },
      "execution_count": 34,
      "outputs": [
        {
          "output_type": "execute_result",
          "data": {
            "text/plain": [
              "tensor([ 1., 46., 64., inf], dtype=torch.float16)"
            ]
          },
          "metadata": {},
          "execution_count": 34
        }
      ]
    },
    {
      "cell_type": "code",
      "source": [
        "some_tensor=torch.rand(3,4)\n",
        "some_tensor"
      ],
      "metadata": {
        "colab": {
          "base_uri": "https://localhost:8080/"
        },
        "id": "q4N9zFJlkEUN",
        "outputId": "d08f3ca1-b623-478c-f197-bf8f6794c895"
      },
      "execution_count": 35,
      "outputs": [
        {
          "output_type": "execute_result",
          "data": {
            "text/plain": [
              "tensor([[0.0351, 0.6895, 0.9909, 0.9278],\n",
              "        [0.2275, 0.8061, 0.4881, 0.3141],\n",
              "        [0.9847, 0.0871, 0.8332, 0.4313]])"
            ]
          },
          "metadata": {},
          "execution_count": 35
        }
      ]
    },
    {
      "cell_type": "code",
      "source": [
        "some_tensor=some_tensor.type(torch.float16)"
      ],
      "metadata": {
        "id": "Gx9kkVrvkFiq"
      },
      "execution_count": 36,
      "outputs": []
    },
    {
      "cell_type": "code",
      "source": [
        "print(f\"Data Type of the tensor is:-{some_tensor.dtype}\")\n",
        "print(f\"Device of the Tensor is :-{some_tensor.device}\")\n",
        "print(f\"Size of the tensor:-{some_tensor.size()}\")\n",
        "print(f\"Dimension of the tensor is:-{some_tensor.ndim}\")"
      ],
      "metadata": {
        "colab": {
          "base_uri": "https://localhost:8080/"
        },
        "id": "gUyBqL_YkHIp",
        "outputId": "2bb17da4-ef4a-4efe-fad0-5ea3b25cb11e"
      },
      "execution_count": 37,
      "outputs": [
        {
          "output_type": "stream",
          "name": "stdout",
          "text": [
            "Data Type of the tensor is:-torch.float16\n",
            "Device of the Tensor is :-cpu\n",
            "Size of the tensor:-torch.Size([3, 4])\n",
            "Dimension of the tensor is:-2\n"
          ]
        }
      ]
    },
    {
      "cell_type": "code",
      "source": [
        "device=torch.device(\"cuda\")"
      ],
      "metadata": {
        "id": "CpRCP5X0kIj9"
      },
      "execution_count": 38,
      "outputs": []
    },
    {
      "cell_type": "code",
      "source": [
        "#error because we are using cpu insted of gpu \"cuda is a gpu device not a cpu device\"\n",
        "\n",
        "some_tensor=some_tensor.to(device)"
      ],
      "metadata": {
        "colab": {
          "base_uri": "https://localhost:8080/",
          "height": 297
        },
        "id": "QTBCE3wHkNM-",
        "outputId": "ffc58c1b-ff94-4c5e-953b-6120b3635983"
      },
      "execution_count": 39,
      "outputs": [
        {
          "output_type": "error",
          "ename": "RuntimeError",
          "evalue": "Found no NVIDIA driver on your system. Please check that you have an NVIDIA GPU and installed a driver from http://www.nvidia.com/Download/index.aspx",
          "traceback": [
            "\u001b[0;31m---------------------------------------------------------------------------\u001b[0m",
            "\u001b[0;31mRuntimeError\u001b[0m                              Traceback (most recent call last)",
            "\u001b[0;32m<ipython-input-39-f3b3abca3fe8>\u001b[0m in \u001b[0;36m<cell line: 0>\u001b[0;34m()\u001b[0m\n\u001b[1;32m      1\u001b[0m \u001b[0;31m#error because we are using cpu insted of gpu \"cuda is a gpu device not a cpu device\"\u001b[0m\u001b[0;34m\u001b[0m\u001b[0;34m\u001b[0m\u001b[0m\n\u001b[1;32m      2\u001b[0m \u001b[0;34m\u001b[0m\u001b[0m\n\u001b[0;32m----> 3\u001b[0;31m \u001b[0msome_tensor\u001b[0m\u001b[0;34m=\u001b[0m\u001b[0msome_tensor\u001b[0m\u001b[0;34m.\u001b[0m\u001b[0mto\u001b[0m\u001b[0;34m(\u001b[0m\u001b[0mdevice\u001b[0m\u001b[0;34m)\u001b[0m\u001b[0;34m\u001b[0m\u001b[0;34m\u001b[0m\u001b[0m\n\u001b[0m",
            "\u001b[0;32m/usr/local/lib/python3.11/dist-packages/torch/cuda/__init__.py\u001b[0m in \u001b[0;36m_lazy_init\u001b[0;34m()\u001b[0m\n\u001b[1;32m    317\u001b[0m         \u001b[0;32mif\u001b[0m \u001b[0;34m\"CUDA_MODULE_LOADING\"\u001b[0m \u001b[0;32mnot\u001b[0m \u001b[0;32min\u001b[0m \u001b[0mos\u001b[0m\u001b[0;34m.\u001b[0m\u001b[0menviron\u001b[0m\u001b[0;34m:\u001b[0m\u001b[0;34m\u001b[0m\u001b[0;34m\u001b[0m\u001b[0m\n\u001b[1;32m    318\u001b[0m             \u001b[0mos\u001b[0m\u001b[0;34m.\u001b[0m\u001b[0menviron\u001b[0m\u001b[0;34m[\u001b[0m\u001b[0;34m\"CUDA_MODULE_LOADING\"\u001b[0m\u001b[0;34m]\u001b[0m \u001b[0;34m=\u001b[0m \u001b[0;34m\"LAZY\"\u001b[0m\u001b[0;34m\u001b[0m\u001b[0;34m\u001b[0m\u001b[0m\n\u001b[0;32m--> 319\u001b[0;31m         \u001b[0mtorch\u001b[0m\u001b[0;34m.\u001b[0m\u001b[0m_C\u001b[0m\u001b[0;34m.\u001b[0m\u001b[0m_cuda_init\u001b[0m\u001b[0;34m(\u001b[0m\u001b[0;34m)\u001b[0m\u001b[0;34m\u001b[0m\u001b[0;34m\u001b[0m\u001b[0m\n\u001b[0m\u001b[1;32m    320\u001b[0m         \u001b[0;31m# Some of the queued calls may reentrantly call _lazy_init();\u001b[0m\u001b[0;34m\u001b[0m\u001b[0;34m\u001b[0m\u001b[0m\n\u001b[1;32m    321\u001b[0m         \u001b[0;31m# we need to just return without initializing in that case.\u001b[0m\u001b[0;34m\u001b[0m\u001b[0;34m\u001b[0m\u001b[0m\n",
            "\u001b[0;31mRuntimeError\u001b[0m: Found no NVIDIA driver on your system. Please check that you have an NVIDIA GPU and installed a driver from http://www.nvidia.com/Download/index.aspx"
          ]
        }
      ]
    },
    {
      "cell_type": "code",
      "source": [
        "some_tensor.device"
      ],
      "metadata": {
        "colab": {
          "base_uri": "https://localhost:8080/"
        },
        "id": "1YURfBeJkOim",
        "outputId": "45cfff6f-dd07-4099-a8ca-c252b8a366d0"
      },
      "execution_count": 40,
      "outputs": [
        {
          "output_type": "execute_result",
          "data": {
            "text/plain": [
              "device(type='cpu')"
            ]
          },
          "metadata": {},
          "execution_count": 40
        }
      ]
    },
    {
      "cell_type": "code",
      "source": [
        "#matrix multiplocation\n",
        "%%time\n",
        "mat1=torch.tensor([[1,2,3],\n",
        "                   [2,3,4]])\n",
        "mat2=torch.tensor([[2,3,4],\n",
        "                   [3,5,6],\n",
        "                   [43,34,4]])\n",
        "\n",
        "torch.matmul(mat1,mat2)"
      ],
      "metadata": {
        "colab": {
          "base_uri": "https://localhost:8080/"
        },
        "id": "Tzbd0hWWkQax",
        "outputId": "9a97e660-a3ad-4a91-e92f-e187111d1550"
      },
      "execution_count": 41,
      "outputs": [
        {
          "output_type": "stream",
          "name": "stdout",
          "text": [
            "CPU times: user 2.25 ms, sys: 0 ns, total: 2.25 ms\n",
            "Wall time: 5.08 ms\n"
          ]
        },
        {
          "output_type": "execute_result",
          "data": {
            "text/plain": [
              "tensor([[137, 115,  28],\n",
              "        [185, 157,  42]])"
            ]
          },
          "metadata": {},
          "execution_count": 41
        }
      ]
    },
    {
      "cell_type": "code",
      "source": [
        "x=torch.arange(1,100,10)\n",
        "x"
      ],
      "metadata": {
        "colab": {
          "base_uri": "https://localhost:8080/"
        },
        "id": "lL6eh0nTkXeW",
        "outputId": "b7f8ff8d-ba6f-40d0-f6ab-4fb541d54cb8"
      },
      "execution_count": 42,
      "outputs": [
        {
          "output_type": "execute_result",
          "data": {
            "text/plain": [
              "tensor([ 1, 11, 21, 31, 41, 51, 61, 71, 81, 91])"
            ]
          },
          "metadata": {},
          "execution_count": 42
        }
      ]
    },
    {
      "cell_type": "code",
      "source": [
        "#to find the positon of the min element in the tensor\n",
        "x.argmin()"
      ],
      "metadata": {
        "colab": {
          "base_uri": "https://localhost:8080/"
        },
        "id": "qUcaGG8IkZq3",
        "outputId": "adb343ad-397c-477e-c6dc-6cbd898e2254"
      },
      "execution_count": 43,
      "outputs": [
        {
          "output_type": "execute_result",
          "data": {
            "text/plain": [
              "tensor(0)"
            ]
          },
          "metadata": {},
          "execution_count": 43
        }
      ]
    },
    {
      "cell_type": "code",
      "source": [
        "#to find the positon of the min element in the tensor\n",
        "x.argmax()"
      ],
      "metadata": {
        "colab": {
          "base_uri": "https://localhost:8080/"
        },
        "id": "qyX1YTgckbD_",
        "outputId": "b8419623-fde1-49ef-e0a2-408f16eb9e4c"
      },
      "execution_count": 44,
      "outputs": [
        {
          "output_type": "execute_result",
          "data": {
            "text/plain": [
              "tensor(9)"
            ]
          },
          "metadata": {},
          "execution_count": 44
        }
      ]
    },
    {
      "cell_type": "code",
      "source": [
        "#respahing the tensor\n",
        "\n",
        "#we have to take care about the dimension.when we change the shape we have to take care about its number of the elements\n",
        "\n",
        "import torch\n",
        "x=torch.arange(0.,24.)\n",
        "print(x,x.shape)"
      ],
      "metadata": {
        "colab": {
          "base_uri": "https://localhost:8080/"
        },
        "id": "r2lUXu2EkcVn",
        "outputId": "37524c3f-2da0-4d18-e001-b316307c3fab"
      },
      "execution_count": 45,
      "outputs": [
        {
          "output_type": "stream",
          "name": "stdout",
          "text": [
            "tensor([ 0.,  1.,  2.,  3.,  4.,  5.,  6.,  7.,  8.,  9., 10., 11., 12., 13.,\n",
            "        14., 15., 16., 17., 18., 19., 20., 21., 22., 23.]) torch.Size([24])\n"
          ]
        }
      ]
    },
    {
      "cell_type": "code",
      "source": [
        "#respahing the tensor\n",
        "x_reshaped=x.reshape(2,2,6)\n",
        "x_reshaped"
      ],
      "metadata": {
        "colab": {
          "base_uri": "https://localhost:8080/"
        },
        "id": "9f7manyHkdv0",
        "outputId": "320b0d84-c6c7-434d-af90-9021b85407dc"
      },
      "execution_count": 46,
      "outputs": [
        {
          "output_type": "execute_result",
          "data": {
            "text/plain": [
              "tensor([[[ 0.,  1.,  2.,  3.,  4.,  5.],\n",
              "         [ 6.,  7.,  8.,  9., 10., 11.]],\n",
              "\n",
              "        [[12., 13., 14., 15., 16., 17.],\n",
              "         [18., 19., 20., 21., 22., 23.]]])"
            ]
          },
          "metadata": {},
          "execution_count": 46
        }
      ]
    },
    {
      "cell_type": "code",
      "source": [
        "#Changing the view\n",
        "\n",
        "#it can't change the orignal\n",
        "\n",
        "#if we changes z then x will changes because views shares same memory with the original tensor\n",
        "\n",
        "z=x.view(2,6,2)\n",
        "print(z)"
      ],
      "metadata": {
        "colab": {
          "base_uri": "https://localhost:8080/"
        },
        "id": "He7P6UgUkfdI",
        "outputId": "0e8a9832-37f6-4234-92f6-abd30aadbb03"
      },
      "execution_count": 47,
      "outputs": [
        {
          "output_type": "stream",
          "name": "stdout",
          "text": [
            "tensor([[[ 0.,  1.],\n",
            "         [ 2.,  3.],\n",
            "         [ 4.,  5.],\n",
            "         [ 6.,  7.],\n",
            "         [ 8.,  9.],\n",
            "         [10., 11.]],\n",
            "\n",
            "        [[12., 13.],\n",
            "         [14., 15.],\n",
            "         [16., 17.],\n",
            "         [18., 19.],\n",
            "         [20., 21.],\n",
            "         [22., 23.]]])\n"
          ]
        }
      ]
    },
    {
      "cell_type": "code",
      "source": [
        "#here we changes the value of z and we observe that the memory of x automatically changes.\n",
        "#they share same memory thats why when we change the monory of z ,x(original memory var) value also changes.\n",
        "\n",
        "z[0][0][1]=9\n",
        "print(x)"
      ],
      "metadata": {
        "colab": {
          "base_uri": "https://localhost:8080/"
        },
        "id": "mhPoAPz-khsO",
        "outputId": "946b4b4a-3535-496b-e869-5d00c2ab9bc1"
      },
      "execution_count": 48,
      "outputs": [
        {
          "output_type": "stream",
          "name": "stdout",
          "text": [
            "tensor([ 0.,  9.,  2.,  3.,  4.,  5.,  6.,  7.,  8.,  9., 10., 11., 12., 13.,\n",
            "        14., 15., 16., 17., 18., 19., 20., 21., 22., 23.])\n"
          ]
        }
      ]
    },
    {
      "cell_type": "code",
      "source": [
        "#stack tensor on the top of each other\n",
        "new_x=torch.tensor([[1,2,3],\n",
        "                    [3,45,6],\n",
        "                    [4,3,5]])\n",
        "\n",
        "new_x.ndim"
      ],
      "metadata": {
        "colab": {
          "base_uri": "https://localhost:8080/"
        },
        "id": "vXtDJoLqkjcX",
        "outputId": "fdff4cca-45f8-4794-c54c-d22d944718fc"
      },
      "execution_count": 49,
      "outputs": [
        {
          "output_type": "execute_result",
          "data": {
            "text/plain": [
              "2"
            ]
          },
          "metadata": {},
          "execution_count": 49
        }
      ]
    },
    {
      "cell_type": "code",
      "source": [
        "new_x_stacked=torch.stack([new_x],dim=-2)\n",
        "new_x_stacked"
      ],
      "metadata": {
        "colab": {
          "base_uri": "https://localhost:8080/"
        },
        "id": "inFzofzjklML",
        "outputId": "f806d0a3-4126-4b92-d2b8-80fc27d87d63"
      },
      "execution_count": 50,
      "outputs": [
        {
          "output_type": "execute_result",
          "data": {
            "text/plain": [
              "tensor([[[ 1,  2,  3]],\n",
              "\n",
              "        [[ 3, 45,  6]],\n",
              "\n",
              "        [[ 4,  3,  5]]])"
            ]
          },
          "metadata": {},
          "execution_count": 50
        }
      ]
    },
    {
      "cell_type": "code",
      "source": [
        "#Stacking :-\n",
        "#1.vstack(verical stack):-it add the second tensor in vericaly\n",
        "\n",
        "tensor1=torch.tensor([[1,2,3,4],\n",
        "                      [5,3,2,1],\n",
        "                      [3,3,2,1]]\n",
        "                     )\n",
        "tensor2=torch.tensor([[2,3,4,5],\n",
        "                      [6,7,7,8],\n",
        "                      [9,3,21,1],\n",
        "                      [2,3,1,3]]\n",
        "                     )\n",
        "torch.vstack((tensor1,tensor2))"
      ],
      "metadata": {
        "colab": {
          "base_uri": "https://localhost:8080/"
        },
        "id": "LacKoP8dkm2-",
        "outputId": "4e9e58c0-78ae-44d0-ab4e-248fe7abc717"
      },
      "execution_count": 51,
      "outputs": [
        {
          "output_type": "execute_result",
          "data": {
            "text/plain": [
              "tensor([[ 1,  2,  3,  4],\n",
              "        [ 5,  3,  2,  1],\n",
              "        [ 3,  3,  2,  1],\n",
              "        [ 2,  3,  4,  5],\n",
              "        [ 6,  7,  7,  8],\n",
              "        [ 9,  3, 21,  1],\n",
              "        [ 2,  3,  1,  3]])"
            ]
          },
          "metadata": {},
          "execution_count": 51
        }
      ]
    },
    {
      "cell_type": "code",
      "source": [
        "#Hstack(horizontal stack):-To add the second tensor in the horizontal direction\n",
        "tensor3=torch.tensor([[5,4,3,1],\n",
        "                      [3,4,5,6]])\n",
        "\n",
        "tensor4=torch.tensor([[4,3,5,12],\n",
        "                      [4,5,6,7]])\n",
        "\n",
        "torch.hstack((tensor3,tensor4))"
      ],
      "metadata": {
        "colab": {
          "base_uri": "https://localhost:8080/"
        },
        "id": "Kvfq_P5sko2v",
        "outputId": "879876ca-75e7-4efa-d73a-467263f65549"
      },
      "execution_count": 52,
      "outputs": [
        {
          "output_type": "execute_result",
          "data": {
            "text/plain": [
              "tensor([[ 5,  4,  3,  1,  4,  3,  5, 12],\n",
              "        [ 3,  4,  5,  6,  4,  5,  6,  7]])"
            ]
          },
          "metadata": {},
          "execution_count": 52
        }
      ]
    },
    {
      "cell_type": "code",
      "source": [
        "#torch.squeeze() - remove all the single dimension from a targert tensor\n",
        "\n",
        "torch_noname=torch.zeros(2,1,2,1,3)\n",
        "print(f\"size of the tensor before squeez method{torch_noname}\")\n",
        "y=torch.squeeze(torch_noname)\n",
        "print(f\"size of the tensor before squeez method{y}\")"
      ],
      "metadata": {
        "colab": {
          "base_uri": "https://localhost:8080/"
        },
        "id": "tq6UfJBXkq6q",
        "outputId": "fec7bc32-b958-41dc-80c6-be0be5f6d729"
      },
      "execution_count": 53,
      "outputs": [
        {
          "output_type": "stream",
          "name": "stdout",
          "text": [
            "size of the tensor before squeez methodtensor([[[[[0., 0., 0.]],\n",
            "\n",
            "          [[0., 0., 0.]]]],\n",
            "\n",
            "\n",
            "\n",
            "        [[[[0., 0., 0.]],\n",
            "\n",
            "          [[0., 0., 0.]]]]])\n",
            "size of the tensor before squeez methodtensor([[[0., 0., 0.],\n",
            "         [0., 0., 0.]],\n",
            "\n",
            "        [[0., 0., 0.],\n",
            "         [0., 0., 0.]]])\n"
          ]
        }
      ]
    },
    {
      "cell_type": "code",
      "source": [
        "y1=torch.squeeze(torch_noname,1)\n",
        "print(f\"before parameter{torch_noname,torch_noname.size()}\")\n",
        "print(f\"y1 when parameter passes as 1 output will be {y1.size()}\")"
      ],
      "metadata": {
        "colab": {
          "base_uri": "https://localhost:8080/"
        },
        "id": "eo-c8Grbkwjz",
        "outputId": "13f241e4-b636-43e1-def7-fef27c91a19f"
      },
      "execution_count": 54,
      "outputs": [
        {
          "output_type": "stream",
          "name": "stdout",
          "text": [
            "before parameter(tensor([[[[[0., 0., 0.]],\n",
            "\n",
            "          [[0., 0., 0.]]]],\n",
            "\n",
            "\n",
            "\n",
            "        [[[[0., 0., 0.]],\n",
            "\n",
            "          [[0., 0., 0.]]]]]), torch.Size([2, 1, 2, 1, 3]))\n",
            "y1 when parameter passes as 1 output will be torch.Size([2, 2, 1, 3])\n"
          ]
        }
      ]
    },
    {
      "cell_type": "code",
      "source": [
        "y2=torch.squeeze(torch_noname,1)\n",
        "print(f\"y2 value when patameter is 0{y2.size()}\")"
      ],
      "metadata": {
        "colab": {
          "base_uri": "https://localhost:8080/"
        },
        "id": "5Ol3ufSmkyR-",
        "outputId": "03d082f4-de6d-475a-a25d-597bbf108f49"
      },
      "execution_count": 55,
      "outputs": [
        {
          "output_type": "stream",
          "name": "stdout",
          "text": [
            "y2 value when patameter is 0torch.Size([2, 2, 1, 3])\n"
          ]
        }
      ]
    },
    {
      "cell_type": "code",
      "source": [
        "#torch.unsqueeze()- add one dimension at the a specific location in the targeted tensor"
      ],
      "metadata": {
        "id": "OQOBsH4Ak0aM"
      },
      "execution_count": 56,
      "outputs": []
    },
    {
      "cell_type": "code",
      "source": [
        "y_unsqueezed=y2.unsqueeze(dim=1)\n",
        "print(f\"before parameter{torch_noname,torch_noname.size()}\")\n",
        "print(f\"The usqueezed tensor is {y_unsqueezed,y_unsqueezed.size()}\")"
      ],
      "metadata": {
        "colab": {
          "base_uri": "https://localhost:8080/"
        },
        "id": "eZpLELXLk2z-",
        "outputId": "450ef3f5-487b-4822-bca8-ff6535798570"
      },
      "execution_count": 57,
      "outputs": [
        {
          "output_type": "stream",
          "name": "stdout",
          "text": [
            "before parameter(tensor([[[[[0., 0., 0.]],\n",
            "\n",
            "          [[0., 0., 0.]]]],\n",
            "\n",
            "\n",
            "\n",
            "        [[[[0., 0., 0.]],\n",
            "\n",
            "          [[0., 0., 0.]]]]]), torch.Size([2, 1, 2, 1, 3]))\n",
            "The usqueezed tensor is (tensor([[[[[0., 0., 0.]],\n",
            "\n",
            "          [[0., 0., 0.]]]],\n",
            "\n",
            "\n",
            "\n",
            "        [[[[0., 0., 0.]],\n",
            "\n",
            "          [[0., 0., 0.]]]]]), torch.Size([2, 1, 2, 1, 3]))\n"
          ]
        }
      ]
    },
    {
      "cell_type": "code",
      "source": [
        "y1=torch.zeros([2])\n",
        "y2=y1.unsqueeze(dim=0)\n",
        "y2.size()"
      ],
      "metadata": {
        "colab": {
          "base_uri": "https://localhost:8080/"
        },
        "id": "CQsEHC-uk422",
        "outputId": "7921ab76-25f8-470a-dc48-052b902cbdce"
      },
      "execution_count": 58,
      "outputs": [
        {
          "output_type": "execute_result",
          "data": {
            "text/plain": [
              "torch.Size([1, 2])"
            ]
          },
          "metadata": {},
          "execution_count": 58
        }
      ]
    },
    {
      "cell_type": "code",
      "source": [
        "#torch.permute()-rearranges the dimensions of a target tensor in a specified order\n",
        "\n",
        "tensor_per=torch.ones([2,1,3,3])\n",
        "print(f\"before tensor is {tensor_per} size of the tensor is {tensor_per.size()}\")\n",
        "permuted_tensor=torch.permute(tensor_per,(2,3,0,1))\n",
        "# in the above tensor the first dim is changes with the 2nd dim of the inintial tensor and the first dim is changes with the div 3 and the third tensor is changes with the zeroth dim vice varsa\n",
        "print(f\"permuted tensor is {permuted_tensor} size of the tensor is {permuted_tensor.size()}\")"
      ],
      "metadata": {
        "colab": {
          "base_uri": "https://localhost:8080/"
        },
        "id": "mCT0flSFk9yF",
        "outputId": "e02e66d4-190e-4d62-f077-47e9c93d273a"
      },
      "execution_count": 59,
      "outputs": [
        {
          "output_type": "stream",
          "name": "stdout",
          "text": [
            "before tensor is tensor([[[[1., 1., 1.],\n",
            "          [1., 1., 1.],\n",
            "          [1., 1., 1.]]],\n",
            "\n",
            "\n",
            "        [[[1., 1., 1.],\n",
            "          [1., 1., 1.],\n",
            "          [1., 1., 1.]]]]) size of the tensor is torch.Size([2, 1, 3, 3])\n",
            "permuted tensor is tensor([[[[1.],\n",
            "          [1.]],\n",
            "\n",
            "         [[1.],\n",
            "          [1.]],\n",
            "\n",
            "         [[1.],\n",
            "          [1.]]],\n",
            "\n",
            "\n",
            "        [[[1.],\n",
            "          [1.]],\n",
            "\n",
            "         [[1.],\n",
            "          [1.]],\n",
            "\n",
            "         [[1.],\n",
            "          [1.]]],\n",
            "\n",
            "\n",
            "        [[[1.],\n",
            "          [1.]],\n",
            "\n",
            "         [[1.],\n",
            "          [1.]],\n",
            "\n",
            "         [[1.],\n",
            "          [1.]]]]) size of the tensor is torch.Size([3, 3, 2, 1])\n"
          ]
        }
      ]
    },
    {
      "cell_type": "markdown",
      "source": [
        " TENSORS with NumPy Arrays"
      ],
      "metadata": {
        "id": "nVZ5cdzPlD8j"
      }
    },
    {
      "cell_type": "code",
      "source": [
        "import numpy as np\n",
        "array=np.arange(1.0,9.0)\n",
        "print(f\"array is {array} and type is {array.dtype}\")\n",
        "tensor_Arr=torch.from_numpy(array)\n",
        "print(f\"tensor using np array {tensor_Arr}\")"
      ],
      "metadata": {
        "colab": {
          "base_uri": "https://localhost:8080/"
        },
        "id": "3bt8L3gclAQC",
        "outputId": "13ecab92-9aeb-4119-8b77-6ae2812a093c"
      },
      "execution_count": 60,
      "outputs": [
        {
          "output_type": "stream",
          "name": "stdout",
          "text": [
            "array is [1. 2. 3. 4. 5. 6. 7. 8.] and type is float64\n",
            "tensor using np array tensor([1., 2., 3., 4., 5., 6., 7., 8.], dtype=torch.float64)\n"
          ]
        }
      ]
    },
    {
      "cell_type": "code",
      "source": [
        "# if we change the value of the array to something else then it cant effect the tensor\n",
        "array=array+1\n",
        "print(f\"Array is {array}\")\n",
        "print(f\"tensor ={tensor_Arr}\")"
      ],
      "metadata": {
        "colab": {
          "base_uri": "https://localhost:8080/"
        },
        "id": "H_pvTS5MlIm8",
        "outputId": "06c2e04a-8eab-429d-faa3-c60335af1c0d"
      },
      "execution_count": 61,
      "outputs": [
        {
          "output_type": "stream",
          "name": "stdout",
          "text": [
            "Array is [2. 3. 4. 5. 6. 7. 8. 9.]\n",
            "tensor =tensor([1., 2., 3., 4., 5., 6., 7., 8.], dtype=torch.float64)\n"
          ]
        }
      ]
    },
    {
      "cell_type": "code",
      "source": [
        "#tensor to Numpy\n",
        "\n",
        "tensor=torch.zeros(1,3)\n",
        "print(f\"tensor dtype is {tensor.dtype}\")\n",
        "numpy_tensor=tensor.numpy()\n",
        "print(f\"the numpy tensor is {numpy_tensor} and the size of the numpy tensor is {numpy_tensor.dtype}\")"
      ],
      "metadata": {
        "colab": {
          "base_uri": "https://localhost:8080/"
        },
        "id": "7VAziZ8glKPr",
        "outputId": "f904b6ab-0dc5-40e5-bf4f-adc9d55f0f64"
      },
      "execution_count": 62,
      "outputs": [
        {
          "output_type": "stream",
          "name": "stdout",
          "text": [
            "tensor dtype is torch.float32\n",
            "the numpy tensor is [[0. 0. 0.]] and the size of the numpy tensor is float32\n"
          ]
        }
      ]
    },
    {
      "cell_type": "code",
      "source": [
        "tensor=tensor+1\n",
        "\n",
        "print(tensor)\n",
        "\n",
        "print(f\"tensor after numpy{numpy_tensor}\")"
      ],
      "metadata": {
        "colab": {
          "base_uri": "https://localhost:8080/"
        },
        "id": "yobUfhILlMz1",
        "outputId": "c4ac16b2-ec36-4544-921f-5ac33cfcf991"
      },
      "execution_count": 63,
      "outputs": [
        {
          "output_type": "stream",
          "name": "stdout",
          "text": [
            "tensor([[1., 1., 1.]])\n",
            "tensor after numpy[[0. 0. 0.]]\n"
          ]
        }
      ]
    },
    {
      "cell_type": "code",
      "source": [
        "import torch\n",
        "random_tensor1=torch.rand(3,4)\n",
        "random_tensor2=torch.rand(3,4)\n",
        "print(random_tensor1)\n",
        "print(random_tensor2)\n",
        "print(random_tensor1==random_tensor2)\n"
      ],
      "metadata": {
        "colab": {
          "base_uri": "https://localhost:8080/"
        },
        "id": "N3xb9eqilPNQ",
        "outputId": "1cd2ccf5-2a3d-45c1-c605-3eefaa39e81b"
      },
      "execution_count": 64,
      "outputs": [
        {
          "output_type": "stream",
          "name": "stdout",
          "text": [
            "tensor([[9.8266e-01, 2.6012e-01, 9.4926e-04, 4.1946e-01],\n",
            "        [3.4071e-01, 8.4222e-01, 8.6085e-01, 7.6651e-01],\n",
            "        [3.9291e-01, 4.7423e-01, 2.9073e-01, 2.8375e-01]])\n",
            "tensor([[0.7203, 0.6707, 0.5716, 0.2876],\n",
            "        [0.0891, 0.7672, 0.3267, 0.1578],\n",
            "        [0.9270, 0.4169, 0.8174, 0.6805]])\n",
            "tensor([[False, False, False, False],\n",
            "        [False, False, False, False],\n",
            "        [False, False, False, False]])\n"
          ]
        }
      ]
    },
    {
      "cell_type": "code",
      "source": [
        "# lets make some random but reproducible tensor\n",
        "import torch\n",
        "\n",
        "#Set the random seed\n",
        "RANDOM_SEED=42\n",
        "torch.manual_seed(RANDOM_SEED)\n",
        "random_tensor_a=torch.rand(3,4,6)\n",
        "torch.manual_seed(RANDOM_SEED)\n",
        "random_tensor_b=torch.rand(3,4,6)\n",
        "print(random_tensor_a)\n",
        "print(random_tensor_b)\n",
        "print(random_tensor_a==random_tensor_b)"
      ],
      "metadata": {
        "colab": {
          "base_uri": "https://localhost:8080/"
        },
        "id": "ZPn9b6N_lQ-V",
        "outputId": "da1950fe-9b3e-4d1e-f9ff-b7f5ac248e7d"
      },
      "execution_count": 65,
      "outputs": [
        {
          "output_type": "stream",
          "name": "stdout",
          "text": [
            "tensor([[[0.8823, 0.9150, 0.3829, 0.9593, 0.3904, 0.6009],\n",
            "         [0.2566, 0.7936, 0.9408, 0.1332, 0.9346, 0.5936],\n",
            "         [0.8694, 0.5677, 0.7411, 0.4294, 0.8854, 0.5739],\n",
            "         [0.2666, 0.6274, 0.2696, 0.4414, 0.2969, 0.8317]],\n",
            "\n",
            "        [[0.1053, 0.2695, 0.3588, 0.1994, 0.5472, 0.0062],\n",
            "         [0.9516, 0.0753, 0.8860, 0.5832, 0.3376, 0.8090],\n",
            "         [0.5779, 0.9040, 0.5547, 0.3423, 0.6343, 0.3644],\n",
            "         [0.7104, 0.9464, 0.7890, 0.2814, 0.7886, 0.5895]],\n",
            "\n",
            "        [[0.7539, 0.1952, 0.0050, 0.3068, 0.1165, 0.9103],\n",
            "         [0.6440, 0.7071, 0.6581, 0.4913, 0.8913, 0.1447],\n",
            "         [0.5315, 0.1587, 0.6542, 0.3278, 0.6532, 0.3958],\n",
            "         [0.9147, 0.2036, 0.2018, 0.2018, 0.9497, 0.6666]]])\n",
            "tensor([[[0.8823, 0.9150, 0.3829, 0.9593, 0.3904, 0.6009],\n",
            "         [0.2566, 0.7936, 0.9408, 0.1332, 0.9346, 0.5936],\n",
            "         [0.8694, 0.5677, 0.7411, 0.4294, 0.8854, 0.5739],\n",
            "         [0.2666, 0.6274, 0.2696, 0.4414, 0.2969, 0.8317]],\n",
            "\n",
            "        [[0.1053, 0.2695, 0.3588, 0.1994, 0.5472, 0.0062],\n",
            "         [0.9516, 0.0753, 0.8860, 0.5832, 0.3376, 0.8090],\n",
            "         [0.5779, 0.9040, 0.5547, 0.3423, 0.6343, 0.3644],\n",
            "         [0.7104, 0.9464, 0.7890, 0.2814, 0.7886, 0.5895]],\n",
            "\n",
            "        [[0.7539, 0.1952, 0.0050, 0.3068, 0.1165, 0.9103],\n",
            "         [0.6440, 0.7071, 0.6581, 0.4913, 0.8913, 0.1447],\n",
            "         [0.5315, 0.1587, 0.6542, 0.3278, 0.6532, 0.3958],\n",
            "         [0.9147, 0.2036, 0.2018, 0.2018, 0.9497, 0.6666]]])\n",
            "tensor([[[True, True, True, True, True, True],\n",
            "         [True, True, True, True, True, True],\n",
            "         [True, True, True, True, True, True],\n",
            "         [True, True, True, True, True, True]],\n",
            "\n",
            "        [[True, True, True, True, True, True],\n",
            "         [True, True, True, True, True, True],\n",
            "         [True, True, True, True, True, True],\n",
            "         [True, True, True, True, True, True]],\n",
            "\n",
            "        [[True, True, True, True, True, True],\n",
            "         [True, True, True, True, True, True],\n",
            "         [True, True, True, True, True, True],\n",
            "         [True, True, True, True, True, True]]])\n"
          ]
        }
      ]
    },
    {
      "cell_type": "code",
      "source": [
        "torch.manual_seed(4)\n",
        "tensor=torch.rand(2,3,4)\n",
        "torch.manual_seed(4)\n",
        "tensor1=torch.rand(2,3,4)\n",
        "print(tensor)\n",
        "print(tensor1)\n",
        "print(tensor==tensor1)"
      ],
      "metadata": {
        "colab": {
          "base_uri": "https://localhost:8080/"
        },
        "id": "kHFJEqphlVOo",
        "outputId": "47145f85-8181-42c6-dc1e-cf4356d42a43"
      },
      "execution_count": 66,
      "outputs": [
        {
          "output_type": "stream",
          "name": "stdout",
          "text": [
            "tensor([[[0.5596, 0.5591, 0.0915, 0.2100],\n",
            "         [0.0072, 0.0390, 0.9929, 0.9131],\n",
            "         [0.6186, 0.9744, 0.3189, 0.2148]],\n",
            "\n",
            "        [[0.9263, 0.4735, 0.5949, 0.7956],\n",
            "         [0.7635, 0.2137, 0.3066, 0.0386],\n",
            "         [0.5220, 0.3207, 0.6074, 0.5233]]])\n",
            "tensor([[[0.5596, 0.5591, 0.0915, 0.2100],\n",
            "         [0.0072, 0.0390, 0.9929, 0.9131],\n",
            "         [0.6186, 0.9744, 0.3189, 0.2148]],\n",
            "\n",
            "        [[0.9263, 0.4735, 0.5949, 0.7956],\n",
            "         [0.7635, 0.2137, 0.3066, 0.0386],\n",
            "         [0.5220, 0.3207, 0.6074, 0.5233]]])\n",
            "tensor([[[True, True, True, True],\n",
            "         [True, True, True, True],\n",
            "         [True, True, True, True]],\n",
            "\n",
            "        [[True, True, True, True],\n",
            "         [True, True, True, True],\n",
            "         [True, True, True, True]]])\n"
          ]
        }
      ]
    },
    {
      "cell_type": "markdown",
      "source": [
        "# **Random seeds:-**\n",
        "if we set seed to 42 then it store or hold the value of the random number and when we the use the same when we call the random seed as the next squence ."
      ],
      "metadata": {
        "id": "tyMuVfsXlYpR"
      }
    },
    {
      "cell_type": "code",
      "source": [
        "import torch\n",
        "torch.cuda.is_available()"
      ],
      "metadata": {
        "colab": {
          "base_uri": "https://localhost:8080/"
        },
        "id": "P3FEFkDIle38",
        "outputId": "ef96a3fd-bce7-4dae-a18f-0a33a47df322"
      },
      "execution_count": 67,
      "outputs": [
        {
          "output_type": "execute_result",
          "data": {
            "text/plain": [
              "False"
            ]
          },
          "metadata": {},
          "execution_count": 67
        }
      ]
    },
    {
      "cell_type": "code",
      "source": [
        "#if there are gpu the use the gpu if not then use the cpu\n",
        "\n",
        "device=\"cuda\" if torch.cuda.is_available() else \"cpu\"\n",
        "device"
      ],
      "metadata": {
        "colab": {
          "base_uri": "https://localhost:8080/",
          "height": 36
        },
        "id": "IPhYTSnBlj9P",
        "outputId": "7b8ff4d9-0d92-429a-cedd-16797f1dfe89"
      },
      "execution_count": 68,
      "outputs": [
        {
          "output_type": "execute_result",
          "data": {
            "text/plain": [
              "'cpu'"
            ],
            "application/vnd.google.colaboratory.intrinsic+json": {
              "type": "string"
            }
          },
          "metadata": {},
          "execution_count": 68
        }
      ]
    },
    {
      "cell_type": "code",
      "source": [
        "#counting the number of devices\n",
        "torch.cuda.device_count()"
      ],
      "metadata": {
        "colab": {
          "base_uri": "https://localhost:8080/"
        },
        "id": "aeVscBpnllvx",
        "outputId": "b4330a94-92de-4726-8f5a-96da989f5117"
      },
      "execution_count": 69,
      "outputs": [
        {
          "output_type": "execute_result",
          "data": {
            "text/plain": [
              "0"
            ]
          },
          "metadata": {},
          "execution_count": 69
        }
      ]
    },
    {
      "cell_type": "code",
      "source": [
        "#create a tensor (default on the cpu)\n",
        "\n",
        "tensor =torch.tensor([1,2,3,4])\n",
        "print(tensor ,tensor.device)"
      ],
      "metadata": {
        "colab": {
          "base_uri": "https://localhost:8080/"
        },
        "id": "zsJwBfd6lnkN",
        "outputId": "52b3842e-80cf-46b6-9f23-d580d6d1f382"
      },
      "execution_count": 70,
      "outputs": [
        {
          "output_type": "stream",
          "name": "stdout",
          "text": [
            "tensor([1, 2, 3, 4]) cpu\n"
          ]
        }
      ]
    },
    {
      "cell_type": "code",
      "source": [
        "tensor_on_gpu=tensor.to(device)\n",
        "print(tensor_on_gpu)"
      ],
      "metadata": {
        "colab": {
          "base_uri": "https://localhost:8080/"
        },
        "id": "poLjYgFulqQ4",
        "outputId": "e494630f-03ec-40d9-9f28-6914188185f7"
      },
      "execution_count": 71,
      "outputs": [
        {
          "output_type": "stream",
          "name": "stdout",
          "text": [
            "tensor([1, 2, 3, 4])\n"
          ]
        }
      ]
    },
    {
      "cell_type": "code",
      "source": [
        "#if we want to use numpy then we have to change the device type to cpu\n",
        "tensor_on_cpu=tensor_on_gpu.cpu().numpy()\n",
        "tensor_on_cpu"
      ],
      "metadata": {
        "colab": {
          "base_uri": "https://localhost:8080/"
        },
        "id": "I7LbeZgVlsIr",
        "outputId": "8ea3bd77-2c7e-4635-ca54-b2c4d592e873"
      },
      "execution_count": 72,
      "outputs": [
        {
          "output_type": "execute_result",
          "data": {
            "text/plain": [
              "array([1, 2, 3, 4])"
            ]
          },
          "metadata": {},
          "execution_count": 72
        }
      ]
    },
    {
      "cell_type": "code",
      "source": [
        " #2.Create a random tensor with shape (7, 7).\n",
        "\n",
        " import torch\n",
        " tensor_random=torch.rand([7,7])\n",
        " print(tensor_random)"
      ],
      "metadata": {
        "colab": {
          "base_uri": "https://localhost:8080/"
        },
        "id": "jbwUGy5cluHO",
        "outputId": "180c697b-a5d5-4cac-c12c-41190784feff"
      },
      "execution_count": 73,
      "outputs": [
        {
          "output_type": "stream",
          "name": "stdout",
          "text": [
            "tensor([[9.2627e-01, 5.4306e-01, 7.5057e-01, 6.5778e-01, 9.4361e-01, 2.9215e-01,\n",
            "         9.1749e-01],\n",
            "        [8.5862e-01, 3.0044e-01, 8.0649e-01, 9.6225e-01, 2.1729e-01, 3.0497e-01,\n",
            "         8.4205e-01],\n",
            "        [9.0316e-01, 6.3190e-01, 6.5354e-01, 8.7033e-01, 9.3819e-01, 1.8377e-01,\n",
            "         2.9433e-01],\n",
            "        [9.2098e-01, 7.7006e-01, 2.6540e-01, 3.3035e-01, 9.8522e-01, 1.8684e-01,\n",
            "         8.2164e-01],\n",
            "        [7.9014e-01, 2.0476e-02, 8.7905e-04, 6.6599e-01, 7.4532e-01, 9.4320e-01,\n",
            "         5.6163e-01],\n",
            "        [8.3921e-01, 1.4466e-01, 7.9846e-01, 1.8326e-02, 8.2572e-01, 5.5421e-01,\n",
            "         8.0885e-01],\n",
            "        [6.9751e-01, 1.5410e-01, 5.0519e-01, 5.6324e-01, 5.7188e-01, 6.2222e-02,\n",
            "         2.4745e-01]])\n"
          ]
        }
      ]
    },
    {
      "cell_type": "code",
      "source": [
        "# Perform a matrix multiplication on the tensor from 2 with another random tensor with shape (1, 7)\n",
        "#(hint: you may have to transpose the second tensor).\n",
        "\n",
        "first_tensor=torch.rand([1,7])\n",
        "second_tensor=torch.rand([1,7])\n",
        "\n",
        "y=torch.transpose(second_tensor,0,1)\n",
        "\n",
        "matrix_multiplication=torch.matmul(first_tensor,y)\n",
        "print(matrix_multiplication)"
      ],
      "metadata": {
        "colab": {
          "base_uri": "https://localhost:8080/"
        },
        "id": "kibfrlwel2T0",
        "outputId": "d8a58292-f831-4a5b-d0bd-10199f82336d"
      },
      "execution_count": 74,
      "outputs": [
        {
          "output_type": "stream",
          "name": "stdout",
          "text": [
            "tensor([[1.7051]])\n"
          ]
        }
      ]
    },
    {
      "cell_type": "code",
      "source": [
        "#Set the random seed to 0 and do exercises 2 & 3 over again\n",
        "\n",
        "import torch\n",
        "\n",
        "random_seed=0\n",
        "torch.manual_seed(random_seed)\n",
        "tensor_random=torch.rand([7,7])\n",
        "print(tensor_random)\n",
        "torch.manual_seed(random_seed)\n",
        "first_tensor=torch.rand([1,7])\n",
        "torch.manual_seed(random_seed)\n",
        "second_tensor=torch.rand([1,7])\n",
        "\n",
        "y=torch.transpose(second_tensor,0,1)\n",
        "\n",
        "matrix_multiplication=torch.matmul(first_tensor,y)\n",
        "print(matrix_multiplication)\n",
        "print(f\"tensor 1 is :-{first_tensor} and tensor 2 is {y}\")\n",
        "\n",
        "\n"
      ],
      "metadata": {
        "colab": {
          "base_uri": "https://localhost:8080/"
        },
        "id": "wsfXrKR5l628",
        "outputId": "54489590-c507-47a9-abf2-8d82ec4e0a96"
      },
      "execution_count": 75,
      "outputs": [
        {
          "output_type": "stream",
          "name": "stdout",
          "text": [
            "tensor([[0.4963, 0.7682, 0.0885, 0.1320, 0.3074, 0.6341, 0.4901],\n",
            "        [0.8964, 0.4556, 0.6323, 0.3489, 0.4017, 0.0223, 0.1689],\n",
            "        [0.2939, 0.5185, 0.6977, 0.8000, 0.1610, 0.2823, 0.6816],\n",
            "        [0.9152, 0.3971, 0.8742, 0.4194, 0.5529, 0.9527, 0.0362],\n",
            "        [0.1852, 0.3734, 0.3051, 0.9320, 0.1759, 0.2698, 0.1507],\n",
            "        [0.0317, 0.2081, 0.9298, 0.7231, 0.7423, 0.5263, 0.2437],\n",
            "        [0.5846, 0.0332, 0.1387, 0.2422, 0.8155, 0.7932, 0.2783]])\n",
            "tensor([[1.5985]])\n",
            "tensor 1 is :-tensor([[0.4963, 0.7682, 0.0885, 0.1320, 0.3074, 0.6341, 0.4901]]) and tensor 2 is tensor([[0.4963],\n",
            "        [0.7682],\n",
            "        [0.0885],\n",
            "        [0.1320],\n",
            "        [0.3074],\n",
            "        [0.6341],\n",
            "        [0.4901]])\n"
          ]
        }
      ]
    },
    {
      "cell_type": "code",
      "source": [],
      "metadata": {
        "id": "64SE_z46l_WD"
      },
      "execution_count": null,
      "outputs": []
    }
  ]
}